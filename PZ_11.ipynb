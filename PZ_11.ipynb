{
  "cells": [
    {
      "cell_type": "markdown",
      "metadata": {
        "id": "view-in-github",
        "colab_type": "text"
      },
      "source": [
        "<a href=\"https://colab.research.google.com/github/AlexeyKolesnikoff/Proj_1sem_Kolesnikov/blob/master/PZ_11.ipynb\" target=\"_parent\"><img src=\"https://colab.research.google.com/assets/colab-badge.svg\" alt=\"Open In Colab\"/></a>"
      ]
    },
    {
      "cell_type": "code",
      "source": [
        "# Проверить истинность высказывания: «Среди трех данных целых чисел есть хотя бы одна\n",
        "# пара взаимно противоположных». Вариант 20\n",
        "\n",
        "a = input(\"Введите первое число: \")\n",
        "\n",
        "while type(a) != int:                                   # обработка исключений для первого числа\n",
        "    try:\n",
        "        a = int(a)\n",
        "    except ValueError:\n",
        "        print(\"Неправильно ввели!\")\n",
        "        a = int(input(\"Введите целое первое число: \"))\n",
        "\n",
        "b = input(\"Введите второе число: \")\n",
        "\n",
        "while type(b) != int:                                   # обработка исключений для второго числа\n",
        "    try:\n",
        "        b = int(b)\n",
        "    except ValueError:\n",
        "        print(\"Неправильно ввели!\")\n",
        "        b = int(input(\"Введите целое второе число: \"))\n",
        "\n",
        "c = input(\"Введите третье число: \")\n",
        "\n",
        "while type(c) != int:                                   # обработка исключений для третьего числа\n",
        "    try:\n",
        "        c=int(c)\n",
        "    except ValueError:\n",
        "        print(\"Неправильно ввели!\")\n",
        "        c = int(input(\"Введите целое третье число: \"))\n",
        "\n",
        "if (a != 0) and (a + b == 0 ):\n",
        "    print (\"Есть пара противоположных чисел\")\n",
        "elif (a != 0) and (a + c == 0):\n",
        "    print(\"Есть пара противоположных чисел\")\n",
        "elif (b != 0) and (b + c == 0):\n",
        "    print(\"Есть пара противоположных чисел\")\n",
        "else:\n",
        "    print(\"Нет пары противоположных чисел\")\n",
        "print(\"Программа завершена :)\")"
      ],
      "metadata": {
        "id": "osx7d90mcEvk",
        "outputId": "3e98bbed-fec1-4967-c4df-193e72482b2a",
        "colab": {
          "base_uri": "https://localhost:8080/"
        }
      },
      "execution_count": 1,
      "outputs": [
        {
          "output_type": "stream",
          "name": "stdout",
          "text": [
            "Введите первое число: 2\n",
            "Введите второе число: 5\n",
            "Введите третье число: 6\n",
            "Нет пары противоположных чисел\n",
            "Программа завершена :)\n"
          ]
        }
      ]
    },
    {
      "cell_type": "code",
      "source": [
        "# Дано вещественное число X и целое число N (> 0).\n",
        "# Найти значение выражения\n",
        "# 1 - X 2 /(2!) +X 4 /(4!) - ... + (-1) N -X 2*N /((2-N)!)\n",
        "# (N! = 12 ...N). Полученное число является приближенным\n",
        "# значением функции cos в точке X. Вариант 20.\n",
        "\n",
        "import math\n",
        "N = input(\"Количество слагаемых: \")\n",
        "while type(N) != int:                                   # обработка исключений\n",
        "    try:\n",
        "        N = int(N)\n",
        "    except ValueError:\n",
        "        print(\"Неправильно ввели!\")\n",
        "        N = int(input(\"Количество слагаемых: \"))\n",
        "\n",
        "x = input(\"Введите вевщественное число: \")\n",
        "while type(x) != float:                                   # обработка исключений\n",
        "    try:\n",
        "        x = float(x)\n",
        "    except ValueError:\n",
        "        print(\"Неправильно ввели!\")\n",
        "        x = float(input(\"Введите число: \"))\n",
        "\n",
        "num1 = 1\n",
        "res = 1\n",
        "while num1 < N:\n",
        "    num2 = (-1) ** num1\n",
        "    num3 = (x ** (2 * num1)) / (math.factorial(2 * num1))\n",
        "    num4 = num2 * num3\n",
        "    res += num4\n",
        "    num1 += 1\n",
        "print('Значение выражения равно: ', res)"
      ],
      "metadata": {
        "id": "R1pSBZdOciV9",
        "outputId": "d2efa0c6-0fd7-4037-c817-a4b6f2507043",
        "colab": {
          "base_uri": "https://localhost:8080/"
        }
      },
      "execution_count": 2,
      "outputs": [
        {
          "output_type": "stream",
          "name": "stdout",
          "text": [
            "Количество слагаемых: 2\n",
            "Введите вевщественное число: 1.1\n",
            "Значение выражения равно:  0.3949999999999999\n"
          ]
        }
      ]
    },
    {
      "cell_type": "code",
      "source": [
        "# Составить функцию, которая напечатает 40 любых символов.\n",
        "# Вариант 20\n",
        "\n",
        "def generate_random_string(num):\n",
        "    x = input(\"Введите случайный символ: \")\n",
        "    print(str(x) * num)\n",
        "\n",
        "generate_random_string(40)"
      ],
      "metadata": {
        "id": "oqaOo9j1c7GU",
        "outputId": "af3e7c97-1bd0-4d39-a70b-17c84974010c",
        "colab": {
          "base_uri": "https://localhost:8080/"
        }
      },
      "execution_count": 3,
      "outputs": [
        {
          "output_type": "stream",
          "name": "stdout",
          "text": [
            "Введите случайный символ: 7\n",
            "7777777777777777777777777777777777777777\n"
          ]
        }
      ]
    }
  ],
  "metadata": {
    "colab": {
      "collapsed_sections": [],
      "name": "Добро пожаловать в Colaboratory!",
      "provenance": [],
      "include_colab_link": true
    },
    "kernelspec": {
      "display_name": "Python 3",
      "name": "python3"
    }
  },
  "nbformat": 4,
  "nbformat_minor": 0
}